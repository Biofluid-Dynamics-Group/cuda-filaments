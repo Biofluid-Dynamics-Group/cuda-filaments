{
 "cells": [
  {
   "cell_type": "code",
   "execution_count": 4,
   "id": "6763bdf3",
   "metadata": {},
   "outputs": [],
   "source": [
    "import numpy as np\n",
    "import matplotlib.pyplot as plt\n",
    "import cmcrameri.cm as cmc"
   ]
  },
  {
   "cell_type": "code",
   "execution_count": 5,
   "id": "7b031ade",
   "metadata": {},
   "outputs": [],
   "source": [
    "num_fils = 309\n",
    "num_steps = 500\n",
    "\n",
    "# --- File Paths ---\n",
    "# Make sure to use the correct simulation data path\n",
    "initial_k38 = '../data/emergent_initial_wave_k38/20250724/ciliate_309fil_18000blob_8.00R_0.1500torsion_0.2182tilt_0.3000f_eff_1.4960theta0_0.0000freqshift_true_states.dat'\n",
    "initial_synch = '../data/emergent_initial_wave_k0/20250724/ciliate_309fil_18000blob_8.00R_0.1500torsion_0.2182tilt_0.3000f_eff_1.4960theta0_0.0000freqshift_true_states.dat'\n",
    "\n",
    "# --- Load Data ---\n",
    "k38_data = np.loadtxt(initial_k38)\n",
    "synch_data = np.loadtxt(initial_synch)"
   ]
  },
  {
   "cell_type": "code",
   "execution_count": 6,
   "id": "13517fec",
   "metadata": {},
   "outputs": [],
   "source": [
    "# --- Process Data ---\n",
    "time_k38 = k38_data[:, 0] / num_steps\n",
    "phases_k38 = np.mod(k38_data[:, 2:num_fils+2], 2*np.pi)\n",
    "\n",
    "time_synch = synch_data[:, 0] / num_steps\n",
    "phases_synch = np.mod(synch_data[:, 2:num_fils+2], 2*np.pi)"
   ]
  },
  {
   "cell_type": "code",
   "execution_count": null,
   "id": "0cc97536",
   "metadata": {},
   "outputs": [],
   "source": [
    "# --- Create Kymograph ---\n",
    "fig, axes = plt.subplots(2,1, figsize=(24, 12), squeeze=False)\n",
    "plt.rcParams.update({\"font.size\": 16})\n",
    "\n",
    "# --- K38 Kymograph ---\n",
    "ax = axes[0, 0]\n",
    "position = np.linspace(0, 2*np.pi, num_fils)\n",
    "xx, yy = np.meshgrid(time_k38, position)\n",
    "im = ax.contourf(xx, yy, phases_k38.T, cmap=cmc.romaO, levels=np.linspace(0, 2*np.pi, 100))\n",
    "\n",
    "cbar = fig.colorbar(im, ax=ax)\n",
    "cbar.set_label(r'$\\psi_1$')\n",
    "cbar.set_ticks([0, np.pi, 2*np.pi])\n",
    "cbar.set_ticklabels([r'$0$', r'$\\pi$', r'$2\\pi$'])\n",
    "\n",
    "ax.set_xlabel(r'$t/T$')\n",
    "ax.set_ylabel('angular position')\n",
    "ax.set_title('initial wave (k=38)')\n",
    "ax.set_yticks([0, 2*np.pi])\n",
    "ax.set_yticklabels([r'$0$', r'$2\\pi$'])\n",
    "\n",
    "# --- Synchronized Kymograph ---\n",
    "ax = axes[1, 0]\n",
    "position = np.linspace(0, 2*np.pi, num_fils)\n",
    "xx, yy = np.meshgrid(time_synch, position)\n",
    "im = ax.contourf(xx, yy, phases_synch.T, cmap=cmc.romaO, levels=np.linspace(0, 2*np.pi, 100))\n",
    "\n",
    "cbar = fig.colorbar(im, ax=ax)\n",
    "cbar.set_label(r'$\\psi_1$')\n",
    "cbar.set_ticks([0, np.pi, 2*np.pi])\n",
    "cbar.set_ticklabels([r'$0$', r'$\\pi$', r'$2\\pi$'])\n",
    "\n",
    "ax.set_xlabel(r'$t/T$')\n",
    "ax.set_ylabel('angular position')\n",
    "ax.set_title('initial synchrony (k=0)')\n",
    "ax.set_yticks([0, 2*np.pi])\n",
    "ax.set_yticklabels([r'$0$', r'$2\\pi$'])\n",
    "\n",
    "plt.tight_layout()\n",
    "plt.show()\n",
    "plt.rcParams.update(plt.rcParamsDefault)"
   ]
  }
 ],
 "metadata": {
  "kernelspec": {
   "display_name": "Python 3",
   "language": "python",
   "name": "python3"
  },
  "language_info": {
   "codemirror_mode": {
    "name": "ipython",
    "version": 3
   },
   "file_extension": ".py",
   "mimetype": "text/x-python",
   "name": "python",
   "nbconvert_exporter": "python",
   "pygments_lexer": "ipython3",
   "version": "3.8.10"
  }
 },
 "nbformat": 4,
 "nbformat_minor": 5
}
