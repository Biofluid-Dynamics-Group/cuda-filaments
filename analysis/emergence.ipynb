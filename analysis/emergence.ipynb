{
 "cells": [
  {
   "cell_type": "code",
   "execution_count": 3,
   "id": "fd204d58",
   "metadata": {},
   "outputs": [],
   "source": [
    "import numpy as np\n",
    "import matplotlib.pyplot as plt\n",
    "from matplotlib.animation import FuncAnimation\n",
    "import matplotlib.colors as mcolors\n",
    "import cmcrameri.cm as cmc\n",
    "from tqdm import tqdm\n",
    "\n",
    "# --- Parameters ---\n",
    "num_fils = 309\n",
    "num_segs = 20\n",
    "num_steps = 500\n",
    "\n",
    "# --- File Paths ---\n",
    "seg_file_path = f'../data/emergent_random_1/20250717/ciliate_309fil_9000blob_8.00R_0.1500torsion_0.2182tilt_0.3000f_eff_1.4960theta0_0.0000freqshift_seg_states.dat'\n",
    "phase_file_path = f'../data/emergent_random_1/20250717/ciliate_309fil_9000blob_8.00R_0.1500torsion_0.2182tilt_0.3000f_eff_1.4960theta0_0.0000freqshift_true_states.dat'\n",
    "\n",
    "# --- Load Data ---\n",
    "seg_data = np.loadtxt(seg_file_path)\n",
    "phase_data = np.loadtxt(phase_file_path)\n",
    "\n",
    "# --- Process Data ---\n",
    "time = seg_data[:, 0] / num_steps\n",
    "num_steps = len(time)\n",
    "\n",
    "# Reshape segment data: (time, num_fils, num_segs, 3)\n",
    "seg_positions = seg_data[:, 1:].reshape(num_steps, num_fils, num_segs, 3)\n",
    "\n",
    "# Extract phases: (time, num_fils)\n",
    "phases = np.mod(phase_data[:, 2:num_fils+2], 2*np.pi)\n"
   ]
  },
  {
   "cell_type": "code",
   "execution_count": 12,
   "id": "986887c8",
   "metadata": {},
   "outputs": [
    {
     "data": {
      "text/plain": [
       "(13440,)"
      ]
     },
     "execution_count": 12,
     "metadata": {},
     "output_type": "execute_result"
    }
   ],
   "source": [
    "time.shape"
   ]
  },
  {
   "cell_type": "code",
   "execution_count": 13,
   "id": "8049e258",
   "metadata": {},
   "outputs": [
    {
     "data": {
      "text/plain": [
       "(13443, 309)"
      ]
     },
     "execution_count": 13,
     "metadata": {},
     "output_type": "execute_result"
    }
   ],
   "source": [
    "phases.shape"
   ]
  },
  {
   "cell_type": "code",
   "execution_count": null,
   "id": "018b1b56",
   "metadata": {},
   "outputs": [],
   "source": [
    "# --- Create Kymograph ---\n",
    "fig, ax = plt.subplots(figsize=(12, 8))\n",
    "\n",
    "position = np.linspace(0, 2*np.pi, num_fils)\n",
    "xx, yy = np.meshgrid(time, position)\n",
    "\n",
    "# Create a kymograph of the phases\n",
    "im = plt.contourf(xx, yy, phases[:-3,:].T, cmap=\"twilight_r\", levels=np.linspace(0, 2*np.pi, 100))\n",
    "\n",
    "# Add a colorbar\n",
    "cbar_kymo = fig.colorbar(im, ax=ax)\n",
    "cbar_kymo.set_label('phase')\n",
    "# Set colorbar ticks to show 0 and 2π\n",
    "cbar_kymo.set_ticks([0, 2*np.pi])\n",
    "cbar_kymo.set_ticklabels([r'$0$', r'$2\\pi$'])\n",
    "\n",
    "# Set labels and title\n",
    "ax.set_xlabel(r'$t/T$')\n",
    "ax.set_ylabel('angular position of the cilium')\n",
    "ax.set_title('kymograph')\n",
    "\n",
    "# Set y-axis ticks to show 0 and 2π\n",
    "ax.set_yticks([0, 2*np.pi])\n",
    "ax.set_yticklabels([r'$0$', r'$2\\pi$'])\n",
    "\n",
    "plt.tight_layout()\n",
    "plt.show()"
   ]
  }
 ],
 "metadata": {
  "kernelspec": {
   "display_name": "Python 3",
   "language": "python",
   "name": "python3"
  },
  "language_info": {
   "codemirror_mode": {
    "name": "ipython",
    "version": 3
   },
   "file_extension": ".py",
   "mimetype": "text/x-python",
   "name": "python",
   "nbconvert_exporter": "python",
   "pygments_lexer": "ipython3",
   "version": "3.8.10"
  }
 },
 "nbformat": 4,
 "nbformat_minor": 5
}
