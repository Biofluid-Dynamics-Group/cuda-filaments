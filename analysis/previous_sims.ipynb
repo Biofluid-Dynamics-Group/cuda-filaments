{
 "cells": [
  {
   "cell_type": "code",
   "execution_count": 1,
   "id": "afb0a0e1",
   "metadata": {},
   "outputs": [
    {
     "ename": "ModuleNotFoundError",
     "evalue": "No module named 'plotting_and_analysis_functions'",
     "output_type": "error",
     "traceback": [
      "\u001b[0;31m---------------------------------------------------------------------------\u001b[0m",
      "\u001b[0;31mModuleNotFoundError\u001b[0m                       Traceback (most recent call last)",
      "Cell \u001b[0;32mIn[1], line 4\u001b[0m\n\u001b[1;32m      2\u001b[0m \u001b[38;5;28;01mimport\u001b[39;00m\u001b[38;5;250m \u001b[39m\u001b[38;5;21;01msys\u001b[39;00m\n\u001b[1;32m      3\u001b[0m sys\u001b[38;5;241m.\u001b[39mpath\u001b[38;5;241m.\u001b[39mappend(\u001b[38;5;124m'\u001b[39m\u001b[38;5;124m.\u001b[39m\u001b[38;5;124m'\u001b[39m)\n\u001b[0;32m----> 4\u001b[0m \u001b[38;5;28;01mfrom\u001b[39;00m\u001b[38;5;250m \u001b[39m\u001b[38;5;21;01mplotting_and_analysis_functions\u001b[39;00m\u001b[38;5;250m \u001b[39m\u001b[38;5;28;01mimport\u001b[39;00m \u001b[38;5;241m*\u001b[39m\n\u001b[1;32m      5\u001b[0m \u001b[38;5;28;01mimport\u001b[39;00m\u001b[38;5;250m \u001b[39m\u001b[38;5;21;01mmatplotlib\u001b[39;00m\u001b[38;5;21;01m.\u001b[39;00m\u001b[38;5;21;01mpyplot\u001b[39;00m\u001b[38;5;250m \u001b[39m\u001b[38;5;28;01mas\u001b[39;00m\u001b[38;5;250m \u001b[39m\u001b[38;5;21;01mplt\u001b[39;00m\n\u001b[1;32m      6\u001b[0m \u001b[38;5;28;01mimport\u001b[39;00m\u001b[38;5;250m \u001b[39m\u001b[38;5;21;01mnumpy\u001b[39;00m\u001b[38;5;250m \u001b[39m\u001b[38;5;28;01mas\u001b[39;00m\u001b[38;5;250m \u001b[39m\u001b[38;5;21;01mnp\u001b[39;00m\n",
      "\u001b[0;31mModuleNotFoundError\u001b[0m: No module named 'plotting_and_analysis_functions'"
     ]
    }
   ],
   "source": [
    "# Analysis of cell gaps simulations\n",
    "import sys\n",
    "sys.path.append('.')\n",
    "from plotting_and_analysis_functions import *\n",
    "import matplotlib.pyplot as plt\n",
    "import numpy as np\n",
    "import pandas as pd\n",
    "\n",
    "# Define the cell gaps simulations\n",
    "cell_gaps_sims = {\n",
    "    'cell_gaps_0': '../data/cell_gaps_0/20250922/ciliate_348fil_23302blob_8.00R_0.1500torsion_0.2182tilt_0.3000f_eff_1.4960theta0_0.0000freqshift',\n",
    "    'cell_gaps_1': '../data/cell_gaps_1/20250922/ciliate_348fil_23302blob_8.00R_0.1500torsion_0.2182tilt_0.3000f_eff_1.4960theta0_0.0000freqshift',\n",
    "    'cell_gaps_2': '../data/cell_gaps_2/20250922/ciliate_348fil_23302blob_8.00R_0.1500torsion_0.2182tilt_0.3000f_eff_1.4960theta0_0.0000freqshift',\n",
    "    'cell_gaps_notilt_0': '../data/cell_gaps_notilt_0/20250922/ciliate_348fil_23302blob_8.00R_0.1500torsion_0.0000tilt_0.3000f_eff_1.4960theta0_0.0000freqshift',\n",
    "    'cell_gaps_notilt_1': '../data/cell_gaps_notilt_1/20250922/ciliate_348fil_23302blob_8.00R_0.1500torsion_0.0000tilt_0.3000f_eff_1.4960theta0_0.0000freqshift',\n",
    "    'cell_gaps_notilt_2': '../data/cell_gaps_notilt_2/20250922/ciliate_348fil_23302blob_8.00R_0.1500torsion_0.0000tilt_0.3000f_eff_1.4960theta0_0.0000freqshift'\n",
    "}\n",
    "\n",
    "# Parameters\n",
    "filament_length = 49.4\n",
    "num_steps = 500\n",
    "sphere_radius = 197.6\n",
    "num_segs = 20"
   ]
  },
  {
   "cell_type": "code",
   "execution_count": null,
   "id": "6bea0d8c",
   "metadata": {},
   "outputs": [
    {
     "name": "stdout",
     "output_type": "stream",
     "text": [
      "==================================================\n",
      "🧪 TESTING FUNCTIONS WITH cell_gaps_0\n",
      "==================================================\n",
      "\n",
      "1️⃣ Loading simulation...\n"
     ]
    },
    {
     "ename": "FileNotFoundError",
     "evalue": "../data/cell_gaps_0/20250922/ciliate_348fil_23302blob_8.00R_0.1500torsion_0.2182tilt_0.3000f_eff_1.4960theta0_0.0000freqshift_true_states.dat",
     "output_type": "error",
     "traceback": [
      "\u001b[0;31m---------------------------------------------------------------------------\u001b[0m",
      "\u001b[0;31mFileNotFoundError\u001b[0m                         Traceback (most recent call last)",
      "Cell \u001b[0;32mIn[6], line 8\u001b[0m\n\u001b[1;32m      6\u001b[0m \u001b[38;5;66;03m# Load simulation\u001b[39;00m\n\u001b[1;32m      7\u001b[0m \u001b[38;5;28mprint\u001b[39m(\u001b[38;5;124m\"\u001b[39m\u001b[38;5;130;01m\\n\u001b[39;00m\u001b[38;5;124m1️⃣ Loading simulation...\u001b[39m\u001b[38;5;124m\"\u001b[39m)\n\u001b[0;32m----> 8\u001b[0m sim \u001b[38;5;241m=\u001b[39m \u001b[43mload_simulation\u001b[49m\u001b[43m(\u001b[49m\u001b[43mbase_path\u001b[49m\u001b[43m,\u001b[49m\u001b[43m \u001b[49m\u001b[43mnum_steps\u001b[49m\u001b[38;5;241;43m=\u001b[39;49m\u001b[43mnum_steps\u001b[49m\u001b[43m,\u001b[49m\u001b[43m \u001b[49m\u001b[43msphere_radius\u001b[49m\u001b[38;5;241;43m=\u001b[39;49m\u001b[43msphere_radius\u001b[49m\u001b[43m,\u001b[49m\u001b[43m \u001b[49m\u001b[43mnum_segs\u001b[49m\u001b[38;5;241;43m=\u001b[39;49m\u001b[43mnum_segs\u001b[49m\u001b[43m)\u001b[49m\n\u001b[1;32m      9\u001b[0m \u001b[38;5;28mprint\u001b[39m(\u001b[38;5;124mf\u001b[39m\u001b[38;5;124m\"\u001b[39m\u001b[38;5;124m✅ Loaded: \u001b[39m\u001b[38;5;132;01m{\u001b[39;00msim\u001b[38;5;241m.\u001b[39mphases\u001b[38;5;241m.\u001b[39mshape[\u001b[38;5;241m0\u001b[39m]\u001b[38;5;132;01m}\u001b[39;00m\u001b[38;5;124m timesteps, \u001b[39m\u001b[38;5;132;01m{\u001b[39;00msim\u001b[38;5;241m.\u001b[39mphases\u001b[38;5;241m.\u001b[39mshape[\u001b[38;5;241m1\u001b[39m]\u001b[38;5;132;01m}\u001b[39;00m\u001b[38;5;124m filaments\u001b[39m\u001b[38;5;124m\"\u001b[39m)\n\u001b[1;32m     11\u001b[0m \u001b[38;5;66;03m# Test kymograph function\u001b[39;00m\n",
      "File \u001b[0;32m/data/pz723/cuda-filaments/analysis/analysis_output/../plotting_and_analysis_functions.py:73\u001b[0m, in \u001b[0;36mload_simulation\u001b[0;34m(base_path, num_steps, sphere_radius, num_segs)\u001b[0m\n\u001b[1;32m     70\u001b[0m ref_file   \u001b[38;5;241m=\u001b[39m \u001b[38;5;124mf\u001b[39m\u001b[38;5;124m\"\u001b[39m\u001b[38;5;132;01m{\u001b[39;00mbase_path\u001b[38;5;132;01m}\u001b[39;00m\u001b[38;5;124m_fil_references.dat\u001b[39m\u001b[38;5;124m\"\u001b[39m\n\u001b[1;32m     72\u001b[0m \u001b[38;5;28;01mif\u001b[39;00m \u001b[38;5;129;01mnot\u001b[39;00m os\u001b[38;5;241m.\u001b[39mpath\u001b[38;5;241m.\u001b[39misfile(phase_file):\n\u001b[0;32m---> 73\u001b[0m     \u001b[38;5;28;01mraise\u001b[39;00m \u001b[38;5;167;01mFileNotFoundError\u001b[39;00m(phase_file)\n\u001b[1;32m     74\u001b[0m \u001b[38;5;28;01mif\u001b[39;00m \u001b[38;5;129;01mnot\u001b[39;00m os\u001b[38;5;241m.\u001b[39mpath\u001b[38;5;241m.\u001b[39misfile(seg_file):\n\u001b[1;32m     75\u001b[0m     \u001b[38;5;28;01mraise\u001b[39;00m \u001b[38;5;167;01mFileNotFoundError\u001b[39;00m(seg_file)\n",
      "\u001b[0;31mFileNotFoundError\u001b[0m: ../data/cell_gaps_0/20250922/ciliate_348fil_23302blob_8.00R_0.1500torsion_0.2182tilt_0.3000f_eff_1.4960theta0_0.0000freqshift_true_states.dat"
     ]
    }
   ],
   "source": [
    "for sim_name, base_path in cell_gaps_sims.items():\n",
    "    print(\"=\" * 50)\n",
    "    print(f\"🧪 TESTING FUNCTIONS WITH {sim_name}\")\n",
    "    print(\"=\" * 50)\n",
    "\n",
    "    # Load simulation\n",
    "    print(\"\\n1️⃣ Loading simulation...\")\n",
    "    sim = load_simulation(base_path, num_steps=num_steps, sphere_radius=sphere_radius, num_segs=num_segs)\n",
    "    print(f\"✅ Loaded: {sim.phases.shape[0]} timesteps, {sim.phases.shape[1]} filaments\")\n",
    "\n",
    "    # Test kymograph function\n",
    "    print(\"\\n2️⃣ Testing kymograph...\")\n",
    "    try:\n",
    "        result_kymo = plot_kymograph(base_path, sim=sim, show=True, save=False)\n",
    "        print(f\"✅ Kymograph function works! Returned: {type(result_kymo)}\")\n",
    "    except Exception as e:\n",
    "        print(f\"❌ Kymograph error: {e}\")\n",
    "\n",
    "    # Test basal positions\n",
    "    print(\"\\n3️⃣ Testing basal positions...\")\n",
    "    try:\n",
    "        result_basal = plot_basal_positions(base_path, sim=sim, show=True, save=False)\n",
    "        print(f\"✅ Basal positions function works! Returned: {type(result_basal)}\")\n",
    "    except Exception as e:\n",
    "        print(f\"❌ Basal positions error: {e}\")\n",
    "\n",
    "    # Test frame plot\n",
    "    print(\"\\n4️⃣ Testing frame plot...\")\n",
    "    try:\n",
    "        result_frame = plot_frame(base_path, sim=sim, frame=\"last\", view=\"top\", show=True, save=False)\n",
    "        print(f\"✅ Frame plot function works! Returned: {type(result_frame)}\")\n",
    "    except Exception as e:\n",
    "        print(f\"❌ Frame plot error: {e}\")\n",
    "\n",
    "    # Test wave direction analysis\n",
    "    print(\"\\n5️⃣ Testing wave direction analysis...\")\n",
    "    try:\n",
    "        wd = analyze_wave_direction(base_path, sim=sim)\n",
    "        print(f\"✅ Wave direction: +{wd.percent_positive:.1f}% -{wd.percent_negative:.1f}% ±{wd.percent_stationary:.1f}%\")\n",
    "    except Exception as e:\n",
    "        print(f\"❌ Wave direction error: {e}\")\n",
    "\n",
    "    # Test wavelength analysis\n",
    "    print(\"\\n6️⃣ Testing wavelength analysis...\")\n",
    "    try:\n",
    "        wl = estimate_wavelength_statistical(base_path, sim=sim, filament_length=filament_length, show_analysis=True)\n",
    "        print(f\"✅ Wavelength: {wl.mean_wavelength_rad:.3f} ± {wl.std_wavelength_rad:.3f} rad = {wl.wavelength_filaments:.2f} fil lengths\")\n",
    "        print(f\"   {wl.n_measurements} measurements\")\n",
    "    except Exception as e:\n",
    "        print(f\"❌ Wavelength analysis error: {e}\")\n",
    "\n",
    "    # Test video creation (optional - comment out if too slow)\n",
    "    print(\"\\n7️⃣ Testing video creation...\")\n",
    "    try:\n",
    "        video_path = make_topdown_video(\n",
    "            base_path, sim=sim, \n",
    "            out_path=f\"test_{sim_name}.mp4\",\n",
    "            stride=2,\n",
    "            fps=30,\n",
    "            progress=True,\n",
    "            dpi=100\n",
    "        )\n",
    "        print(f\"✅ Video created: {video_path}\")\n",
    "    except Exception as e:\n",
    "        print(f\"❌ Video creation error: {e}\")\n",
    "\n",
    "    print(\"\\n🎉 FUNCTION TESTING COMPLETE!\")"
   ]
  }
 ],
 "metadata": {
  "kernelspec": {
   "display_name": "Python 3",
   "language": "python",
   "name": "python3"
  },
  "language_info": {
   "codemirror_mode": {
    "name": "ipython",
    "version": 3
   },
   "file_extension": ".py",
   "mimetype": "text/x-python",
   "name": "python",
   "nbconvert_exporter": "python",
   "pygments_lexer": "ipython3",
   "version": "3.8.10"
  }
 },
 "nbformat": 4,
 "nbformat_minor": 5
}
