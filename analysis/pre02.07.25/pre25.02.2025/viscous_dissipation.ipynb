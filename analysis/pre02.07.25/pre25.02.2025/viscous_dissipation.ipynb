{
 "cells": [
  {
   "cell_type": "code",
   "execution_count": null,
   "metadata": {},
   "outputs": [],
   "source": [
    "import numpy as np\n",
    "\n",
    "file_path = '/home/pz723/cuda-filaments/data/platy_N25_0W/20241030/ciliate_25fil_4096blob_4.00R_0.0010torsion_0.2182tilt_0.3000f_eff_1.4960theta0_true_states.dat'\n",
    "phases = np.loadtxt(file_path)\n",
    "phases = np.delete(phases, 1, axis=1)\n"
   ]
  },
  {
   "cell_type": "code",
   "execution_count": null,
   "metadata": {},
   "outputs": [
    {
     "data": {
      "text/plain": [
       "array([[0.0000000e+00, 1.0000000e+00, 0.0000000e+00, ..., 0.0000000e+00,\n",
       "        0.0000000e+00, 0.0000000e+00],\n",
       "       [5.0000000e+00, 1.0000000e+00, 6.2831856e-02, ..., 6.2831856e-02,\n",
       "        6.2831856e-02, 6.2831856e-02],\n",
       "       [1.0000000e+01, 1.0000000e+00, 1.2566371e-01, ..., 1.2566371e-01,\n",
       "        1.2566371e-01, 1.2566371e-01],\n",
       "       ...,\n",
       "       [9.9000000e+02, 1.0000000e+00, 1.2440828e+01, ..., 1.2440828e+01,\n",
       "        1.2440828e+01, 1.2440828e+01],\n",
       "       [9.9500000e+02, 1.0000000e+00, 1.2503661e+01, ..., 1.2503661e+01,\n",
       "        1.2503661e+01, 1.2503661e+01],\n",
       "       [1.0000000e+03, 1.0000000e+00, 1.2566494e+01, ..., 1.2566494e+01,\n",
       "        1.2566494e+01, 1.2566494e+01]])"
      ]
     },
     "execution_count": 2,
     "metadata": {},
     "output_type": "execute_result"
    }
   ],
   "source": []
  }
 ],
 "metadata": {
  "kernelspec": {
   "display_name": "Python 3",
   "language": "python",
   "name": "python3"
  },
  "language_info": {
   "codemirror_mode": {
    "name": "ipython",
    "version": 3
   },
   "file_extension": ".py",
   "mimetype": "text/x-python",
   "name": "python",
   "nbconvert_exporter": "python",
   "pygments_lexer": "ipython3",
   "version": "3.8.10"
  }
 },
 "nbformat": 4,
 "nbformat_minor": 2
}
